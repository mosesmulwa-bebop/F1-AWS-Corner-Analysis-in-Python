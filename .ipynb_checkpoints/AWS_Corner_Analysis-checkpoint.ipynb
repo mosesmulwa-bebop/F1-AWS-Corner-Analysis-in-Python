{
 "cells": [
  {
   "cell_type": "markdown",
   "id": "a7565179",
   "metadata": {},
   "source": [
    "This notebook uses the <b>fastf1</b> library. <br>\n",
    "Documentation for the fastf1 library can be found here:https://theoehrly.github.io/Fast-F1/index.html <br>\n",
    "\n",
    "Inspired by this medium article: https://medium.com/towards-formula-1-analysis/how-to-recreate-the-formula-1-aws-corner-analysis-in-python-37c26363c47b "
   ]
  },
  {
   "cell_type": "code",
   "execution_count": 1,
   "id": "c085b7fa",
   "metadata": {},
   "outputs": [],
   "source": [
    "import numpy as np\n",
    "import pandas as pd\n",
    "\n",
    "import fastf1 as ff1\n",
    "from fastf1 import plotting\n",
    "\n",
    "from matplotlib import pyplot as plt\n",
    "from matplotlib.pyplot import figure"
   ]
  },
  {
   "cell_type": "code",
   "execution_count": 3,
   "id": "12b14ef8",
   "metadata": {},
   "outputs": [],
   "source": [
    "# Enable the cache for ff1. This ensures that we only download the data once. Create a folder called cache\n",
    "ff1.Cache.enable_cache('cache') "
   ]
  },
  {
   "cell_type": "code",
   "execution_count": 4,
   "id": "2c2de435",
   "metadata": {},
   "outputs": [
    {
     "name": "stderr",
     "output_type": "stream",
     "text": [
      "core           INFO \tLoading laps for British Grand Prix - Qualifying [v2.1.13]\n",
      "api            INFO \tNo cached data found for timing_data. Loading data...\n",
      "api            INFO \tFetching timing data...\n",
      "api            INFO \tParsing timing data...\n",
      "api            INFO \tData has been written to cache!\n",
      "api            INFO \tNo cached data found for timing_app_data. Loading data...\n",
      "api            INFO \tFetching timing app data...\n",
      "api            INFO \tData has been written to cache!\n",
      "core           INFO \tProcessing timing data...\n",
      "api            INFO \tNo cached data found for driver_info. Loading data...\n",
      "api            INFO \tFetching driver list...\n",
      "api            INFO \tData has been written to cache!\n",
      "api            INFO \tNo cached data found for session_status_data. Loading data...\n",
      "api            INFO \tFetching session status data...\n",
      "api            INFO \tData has been written to cache!\n",
      "api            INFO \tNo cached data found for track_status_data. Loading data...\n",
      "api            INFO \tFetching track status data...\n",
      "api            INFO \tData has been written to cache!\n",
      "api            INFO \tNo cached data found for car_data. Loading data...\n",
      "api            INFO \tFetching car data...\n",
      "api            INFO \tParsing car data...\n",
      "api            INFO \tData has been written to cache!\n",
      "api            INFO \tNo cached data found for position_data. Loading data...\n",
      "api            INFO \tFetching position data...\n",
      "api            INFO \tParsing position data...\n",
      "api            INFO \tData has been written to cache!\n",
      "api            INFO \tNo cached data found for weather_data. Loading data...\n",
      "api            INFO \tFetching weather data...\n",
      "api            INFO \tData has been written to cache!\n",
      "core           INFO \tLoaded data for 20 drivers: ['6', '3', '11', '16', '31', '22', '4', '63', '44', '9', '10', '77', '18', '33', '14', '7', '99', '5', '47', '55']\n"
     ]
    }
   ],
   "source": [
    "#Get the data. Specifically the 2021 British GP Qualifying session.\n",
    "\n",
    "# Load the session data\n",
    "quali = ff1.get_session(2021, 'British GP', 'Q')\n",
    "\n",
    "# Get the laps\n",
    "laps = quali.load_laps(with_telemetry=True)"
   ]
  },
  {
   "cell_type": "code",
   "execution_count": 5,
   "id": "1cf8a9d7",
   "metadata": {},
   "outputs": [],
   "source": [
    "#Next up, we specify the drivers we’re interested in. \n",
    "#Since, for this circuit, we are analyzing Hamilton and Verstappen, \n",
    "#we store those names in the variables driver_1 and driver_2 .\n",
    "#This can be changed to any driver names as long as you have the three letter abbreviation.\n",
    "#E.g leclerc would be LEC\n",
    "#Since we will be analyzing T15, 16 and 17, we specify the location of those corners in terms of distance.\n",
    "#In this case, those corners are located between 4800m and 5500m around the track.\n",
    "\n",
    "# Setting parameters\n",
    "driver_1, driver_2 = 'HAM', 'VER'\n",
    "\n",
    "distance_min, distance_max = 4800, 5500 "
   ]
  },
  {
   "cell_type": "code",
   "execution_count": 6,
   "id": "a0cd4a29",
   "metadata": {},
   "outputs": [],
   "source": [
    "#Finally, we load the laps of the previously specified drivers. \n",
    "#We then pick their fastest laps and load the telemetry. \n",
    "#What we also do is storing the teamnames of those drivers in the variables team_driver_1 and team_driver_2 , \n",
    "#so we can color the plot later on.\n",
    "\n",
    "\n",
    "# Extracting the laps\n",
    "laps_driver_1 = laps.pick_driver(driver_1)\n",
    "laps_driver_2 = laps.pick_driver(driver_2)\n",
    "\n",
    "telemetry_driver_1 = laps_driver_1.pick_fastest().get_car_data().add_distance()\n",
    "telemetry_driver_2 = laps_driver_2.pick_fastest().get_car_data().add_distance()\n",
    "\n",
    "# Identifying the team for coloring later on\n",
    "team_driver_1 = laps_driver_1.reset_index().loc[0, 'Team']\n",
    "team_driver_2 = laps_driver_2.reset_index().loc[0, 'Team']"
   ]
  },
  {
   "cell_type": "markdown",
   "id": "79c14890",
   "metadata": {},
   "source": [
    "There are, roughly, three phases a car is going through when working its way through a corner. <br>\n",
    "<b>Braking</b>. When approaching a corner, at some point, the brakes are applied to reduce the speed. This mostly happens in a straight line.<br>\n",
    "<b>Cornering</b>. This involves turning in, hitting the apex, and exiting the corner with limited grip. Some braking and some throttle can be applied, but since the grip is limited, the driver has to be careful on the paddles.<br>\n",
    "<b>Exiting at full throttle</b>. After going through the corner, at some point, the car is able to exit on full throttle again to maximize the exit speed.<br>\n",
    "\n",
    "The three phases are denoted as current actions."
   ]
  },
  {
   "cell_type": "markdown",
   "id": "c3e6960c",
   "metadata": {},
   "source": [
    "We label all the rows of the telemetry data according to the following rules: <br>\n",
    "Brake > 0 → ‘Brake’<br>\n",
    "Throttle == 100 → ‘Full Throttle’<br>\n",
    "Brake == 0 & Throttle < 100 → ‘Cornering’<br>"
   ]
  },
  {
   "cell_type": "code",
   "execution_count": 7,
   "id": "18ed23e6",
   "metadata": {},
   "outputs": [],
   "source": [
    "# Assigning labels to what the drivers are currently doing \n",
    "telemetry_driver_1.loc[telemetry_driver_1['Brake'] > 0, 'CurrentAction'] = 'Brake'\n",
    "telemetry_driver_1.loc[telemetry_driver_1['Throttle'] == 100, 'CurrentAction'] = 'Full Throttle'\n",
    "telemetry_driver_1.loc[(telemetry_driver_1['Brake'] == 0) & (telemetry_driver_1['Throttle'] < 100), 'CurrentAction'] = 'Cornering'\n",
    "\n",
    "telemetry_driver_2.loc[telemetry_driver_2['Brake'] > 0, 'CurrentAction'] = 'Brake'\n",
    "telemetry_driver_2.loc[telemetry_driver_2['Throttle'] == 100, 'CurrentAction'] = 'Full Throttle'\n",
    "telemetry_driver_2.loc[(telemetry_driver_2['Brake'] == 0) & (telemetry_driver_2['Throttle'] < 100), 'CurrentAction'] = 'Cornering'"
   ]
  },
  {
   "cell_type": "code",
   "execution_count": null,
   "id": "9b18d8c2",
   "metadata": {},
   "outputs": [],
   "source": []
  }
 ],
 "metadata": {
  "kernelspec": {
   "display_name": "Python 3 (ipykernel)",
   "language": "python",
   "name": "python3"
  },
  "language_info": {
   "codemirror_mode": {
    "name": "ipython",
    "version": 3
   },
   "file_extension": ".py",
   "mimetype": "text/x-python",
   "name": "python",
   "nbconvert_exporter": "python",
   "pygments_lexer": "ipython3",
   "version": "3.8.12"
  }
 },
 "nbformat": 4,
 "nbformat_minor": 5
}
