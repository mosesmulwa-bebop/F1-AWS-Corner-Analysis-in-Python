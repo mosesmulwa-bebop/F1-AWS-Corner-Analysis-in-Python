{
 "cells": [
  {
   "cell_type": "markdown",
   "id": "a0794e76",
   "metadata": {},
   "source": [
    "This notebook uses the <b>fastf1</b> library. <br>\n",
    "Documentation for the fastf1 library can be found here:https://theoehrly.github.io/Fast-F1/index.html <br>\n",
    "\n",
    "Inspired by this medium article: https://medium.com/towards-formula-1-analysis/how-to-recreate-the-formula-1-aws-corner-analysis-in-python-37c26363c47b "
   ]
  },
  {
   "cell_type": "code",
   "execution_count": 1,
   "id": "03c3c372",
   "metadata": {},
   "outputs": [],
   "source": [
    "import numpy as np\n",
    "import pandas as pd\n",
    "\n",
    "import fastf1 as ff1\n",
    "from fastf1 import plotting\n",
    "\n",
    "from matplotlib import pyplot as plt\n",
    "from matplotlib.pyplot import figure"
   ]
  },
  {
   "cell_type": "code",
   "execution_count": 2,
   "id": "991cb808",
   "metadata": {},
   "outputs": [],
   "source": [
    "# Enable the cache for ff1. This ensures that we only download the data once. Create a folder called cache\n",
    "ff1.Cache.enable_cache('cache') "
   ]
  },
  {
   "cell_type": "code",
   "execution_count": 3,
   "id": "f3c0db8b",
   "metadata": {},
   "outputs": [
    {
     "name": "stderr",
     "output_type": "stream",
     "text": [
      "core           INFO \tLoading laps for British Grand Prix - Qualifying [v2.1.13]\n",
      "api            INFO \tUsing cached data for timing_data\n",
      "api            INFO \tUsing cached data for timing_app_data\n",
      "core           INFO \tProcessing timing data...\n",
      "api            INFO \tUsing cached data for driver_info\n",
      "api            INFO \tUsing cached data for session_status_data\n",
      "api            INFO \tUsing cached data for track_status_data\n",
      "api            INFO \tUsing cached data for car_data\n",
      "api            INFO \tUsing cached data for position_data\n",
      "api            INFO \tUsing cached data for weather_data\n",
      "core           INFO \tLoaded data for 20 drivers: ['33', '5', '55', '44', '9', '6', '7', '22', '31', '16', '10', '47', '4', '63', '14', '3', '11', '77', '18', '99']\n"
     ]
    }
   ],
   "source": [
    "#Get the data. Specifically the 2021 British GP Qualifying session.\n",
    "\n",
    "# Load the session data\n",
    "quali = ff1.get_session(2021, 'British GP', 'Q')\n",
    "\n",
    "# Get the laps\n",
    "laps = quali.load_laps(with_telemetry=True)"
   ]
  },
  {
   "cell_type": "code",
   "execution_count": 4,
   "id": "3a90cb23",
   "metadata": {},
   "outputs": [],
   "source": [
    "#Next up, we specify the drivers we’re interested in. \n",
    "#Since, for this circuit, we are analyzing Hamilton and Verstappen, \n",
    "#we store those names in the variables driver_1 and driver_2 .\n",
    "#This can be changed to any driver names as long as you have the three letter abbreviation.\n",
    "#E.g leclerc would be LEC\n",
    "#Since we will be analyzing T15, 16 and 17, we specify the location of those corners in terms of distance.\n",
    "#In this case, those corners are located between 4800m and 5500m around the track.\n",
    "\n",
    "# Setting parameters\n",
    "driver_1, driver_2 = 'HAM', 'VER'\n",
    "\n",
    "distance_min, distance_max = 4800, 5500 "
   ]
  },
  {
   "cell_type": "code",
   "execution_count": 5,
   "id": "ed66bb7e",
   "metadata": {},
   "outputs": [],
   "source": [
    "#Finally, we load the laps of the previously specified drivers. \n",
    "#We then pick their fastest laps and load the telemetry. \n",
    "#What we also do is storing the teamnames of those drivers in the variables team_driver_1 and team_driver_2 , \n",
    "#so we can color the plot later on.\n",
    "\n",
    "\n",
    "# Extracting the laps\n",
    "laps_driver_1 = laps.pick_driver(driver_1)\n",
    "laps_driver_2 = laps.pick_driver(driver_2)\n",
    "\n",
    "telemetry_driver_1 = laps_driver_1.pick_fastest().get_car_data().add_distance()\n",
    "telemetry_driver_2 = laps_driver_2.pick_fastest().get_car_data().add_distance()\n",
    "\n",
    "# Identifying the team for coloring later on\n",
    "team_driver_1 = laps_driver_1.reset_index().loc[0, 'Team']\n",
    "team_driver_2 = laps_driver_2.reset_index().loc[0, 'Team']"
   ]
  },
  {
   "cell_type": "markdown",
   "id": "9fab9f3f",
   "metadata": {},
   "source": [
    "There are, roughly, three phases a car is going through when working its way through a corner. <br>\n",
    "<b>Braking</b>. When approaching a corner, at some point, the brakes are applied to reduce the speed. This mostly happens in a straight line.<br>\n",
    "<b>Cornering</b>. This involves turning in, hitting the apex, and exiting the corner with limited grip. Some braking and some throttle can be applied, but since the grip is limited, the driver has to be careful on the paddles.<br>\n",
    "<b>Exiting at full throttle</b>. After going through the corner, at some point, the car is able to exit on full throttle again to maximize the exit speed.<br>\n",
    "\n",
    "The three phases are denoted as current actions."
   ]
  },
  {
   "cell_type": "markdown",
   "id": "eddd539d",
   "metadata": {},
   "source": [
    "We label all the rows of the telemetry data according to the following rules: <br>\n",
    "Brake > 0 → ‘Brake’<br>\n",
    "Throttle == 100 → ‘Full Throttle’<br>\n",
    "Brake == 0 & Throttle < 100 → ‘Cornering’<br>"
   ]
  },
  {
   "cell_type": "code",
   "execution_count": 6,
   "id": "54e01cab",
   "metadata": {},
   "outputs": [],
   "source": [
    "# Assigning labels to what the drivers are currently doing \n",
    "telemetry_driver_1.loc[telemetry_driver_1['Brake'] > 0, 'CurrentAction'] = 'Brake'\n",
    "telemetry_driver_1.loc[telemetry_driver_1['Throttle'] == 100, 'CurrentAction'] = 'Full Throttle'\n",
    "telemetry_driver_1.loc[(telemetry_driver_1['Brake'] == 0) & (telemetry_driver_1['Throttle'] < 100), 'CurrentAction'] = 'Cornering'\n",
    "\n",
    "telemetry_driver_2.loc[telemetry_driver_2['Brake'] > 0, 'CurrentAction'] = 'Brake'\n",
    "telemetry_driver_2.loc[telemetry_driver_2['Throttle'] == 100, 'CurrentAction'] = 'Full Throttle'\n",
    "telemetry_driver_2.loc[(telemetry_driver_2['Brake'] == 0) & (telemetry_driver_2['Throttle'] < 100), 'CurrentAction'] = 'Cornering'"
   ]
  },
  {
   "cell_type": "markdown",
   "id": "6eded331",
   "metadata": {},
   "source": [
    "Currently, multiple rows have the label full throttle,brake or cornering. We want to consolidate them and also notice the changes.\n",
    "We can do this by asigning ids from which we can identify changes. To do that, we use the shift function from Pandas, which allows us to look at the previous row of the dataset."
   ]
  },
  {
   "cell_type": "code",
   "execution_count": 7,
   "id": "0dcdfcbf",
   "metadata": {},
   "outputs": [],
   "source": [
    "# Numbering each unique action to identify changes, so that we can group later on\n",
    "telemetry_driver_1['ActionID'] = (telemetry_driver_1['CurrentAction'] != telemetry_driver_1['CurrentAction'].shift(1)).cumsum()\n",
    "telemetry_driver_2['ActionID'] = (telemetry_driver_2['CurrentAction'] != telemetry_driver_2['CurrentAction'].shift(1)).cumsum()\n"
   ]
  },
  {
   "cell_type": "code",
   "execution_count": 8,
   "id": "e5953418",
   "metadata": {},
   "outputs": [],
   "source": [
    "# Identifying all unique actions\n",
    "actions_driver_1 = telemetry_driver_1[['ActionID', 'CurrentAction', 'Distance']].groupby(['ActionID', 'CurrentAction']).max('Distance').reset_index()\n",
    "actions_driver_2 = telemetry_driver_2[['ActionID', 'CurrentAction', 'Distance']].groupby(['ActionID', 'CurrentAction']).max('Distance').reset_index()\n",
    "\n",
    "actions_driver_1['Driver'] = driver_1\n",
    "actions_driver_2['Driver'] = driver_2"
   ]
  },
  {
   "cell_type": "code",
   "execution_count": 9,
   "id": "169198f6",
   "metadata": {},
   "outputs": [],
   "source": [
    "# Calculating the distance between each action, so that we know how long the bar should be\n",
    "actions_driver_1['DistanceDelta'] = actions_driver_1['Distance'] - actions_driver_1['Distance'].shift(1)\n",
    "actions_driver_1.loc[0, 'DistanceDelta'] = actions_driver_1.loc[0, 'Distance']\n",
    "\n",
    "actions_driver_2['DistanceDelta'] = actions_driver_2['Distance'] - actions_driver_2['Distance'].shift(1)\n",
    "actions_driver_2.loc[0, 'DistanceDelta'] = actions_driver_2.loc[0, 'Distance']"
   ]
  },
  {
   "cell_type": "code",
   "execution_count": 10,
   "id": "904c6f75",
   "metadata": {},
   "outputs": [
    {
     "name": "stderr",
     "output_type": "stream",
     "text": [
      "C:\\Users\\user\\AppData\\Local\\Temp/ipykernel_5188/3431513291.py:2: FutureWarning: The frame.append method is deprecated and will be removed from pandas in a future version. Use pandas.concat instead.\n",
      "  all_actions = actions_driver_1.append(actions_driver_2)\n"
     ]
    }
   ],
   "source": [
    "\n",
    "# Merging together\n",
    "all_actions = actions_driver_1.append(actions_driver_2)"
   ]
  },
  {
   "cell_type": "code",
   "execution_count": 11,
   "id": "dd4e1544",
   "metadata": {},
   "outputs": [],
   "source": [
    "# Calculating average speed\n",
    "avg_speed_driver_1 = np.mean(telemetry_driver_1['Speed'].loc[\n",
    "    (telemetry_driver_1['Distance'] >= distance_min) & \n",
    "        (telemetry_driver_1['Distance'] >= distance_max) \n",
    "])\n",
    "\n",
    "\n",
    "avg_speed_driver_2 = np.mean(telemetry_driver_2['Speed'].loc[\n",
    "    (telemetry_driver_2['Distance'] >= distance_min) & \n",
    "        (telemetry_driver_2['Distance'] >= distance_max) \n",
    "])\n",
    "\n",
    "if avg_speed_driver_1 > avg_speed_driver_2:    \n",
    "    speed_text = f\"{driver_1} {round(avg_speed_driver_1 - avg_speed_driver_2,2)}km/h faster\"\n",
    "else:\n",
    "    speed_text = f\"{driver_1} {round(avg_speed_driver_2 - avg_speed_driver_1,2)}km/h faster\""
   ]
  },
  {
   "cell_type": "code",
   "execution_count": 12,
   "id": "12f1dc6e",
   "metadata": {},
   "outputs": [
    {
     "data": {
      "image/png": "[encoded data removed]",
      "text/plain": [
       "<Figure size 936x288 with 2 Axes>"
      ]
     },
     "metadata": {
      "needs_background": "light"
     },
     "output_type": "display_data"
    }
   ],
   "source": [
    "##############################\n",
    "#\n",
    "# Setting everything up\n",
    "#\n",
    "##############################\n",
    "plt.rcParams[\"figure.figsize\"] = [13, 4]\n",
    "plt.rcParams[\"figure.autolayout\"] = True\n",
    "\n",
    "telemetry_colors = {\n",
    "    'Full Throttle': 'green',\n",
    "    'Cornering': 'grey',\n",
    "    'Brake': 'red',\n",
    "}\n",
    "\n",
    "fig, ax = plt.subplots(2)\n",
    "\n",
    "\n",
    "##############################\n",
    "#\n",
    "# Lineplot for speed \n",
    "#\n",
    "##############################\n",
    "ax[0].plot(telemetry_driver_1['Distance'], telemetry_driver_1['Speed'], label=driver_1, color=ff1.plotting.team_color(team_driver_1))\n",
    "ax[0].plot(telemetry_driver_2['Distance'], telemetry_driver_2['Speed'], label=driver_2, color=ff1.plotting.team_color(team_driver_2))\n",
    "\n",
    "# Speed difference\n",
    "ax[0].text(distance_min + 15,200, speed_text, fontsize = 15)\n",
    "\n",
    "ax[0].set(ylabel='Speed')\n",
    "ax[0].legend(loc=\"lower right\")\n",
    "\n",
    "\n",
    "##############################\n",
    "#\n",
    "# Horizontal barplot for telemetry\n",
    "#\n",
    "##############################\n",
    "for driver in [driver_1, driver_2]:\n",
    "    driver_actions = all_actions.loc[all_actions['Driver'] == driver]\n",
    "    \n",
    "    previous_action_end = 0\n",
    "    for _, action in driver_actions.iterrows():\n",
    "        ax[1].barh(\n",
    "            [driver], \n",
    "            action['DistanceDelta'], \n",
    "            left=previous_action_end, \n",
    "            color=telemetry_colors[action['CurrentAction']]\n",
    "        )\n",
    "        \n",
    "        previous_action_end = previous_action_end + action['DistanceDelta']\n",
    "        \n",
    "        \n",
    "##############################\n",
    "#\n",
    "# Styling of the plot\n",
    "#\n",
    "##############################   \n",
    "# Set x-label\n",
    "plt.xlabel('Distance')\n",
    "\n",
    "# Invert y-axis \n",
    "plt.gca().invert_yaxis()\n",
    "\n",
    "# Remove frame from plot\n",
    "ax[1].spines['top'].set_visible(False)\n",
    "ax[1].spines['right'].set_visible(False)\n",
    "ax[1].spines['left'].set_visible(False)\n",
    "\n",
    "# Add legend\n",
    "labels = list(telemetry_colors.keys())\n",
    "handles = [plt.Rectangle((0,0),1,1, color=telemetry_colors[label]) for label in labels]\n",
    "ax[1].legend(handles, labels)\n",
    "\n",
    "# Zoom in on the specific part we want to see\n",
    "ax[0].set_xlim(distance_min, distance_max)\n",
    "ax[1].set_xlim(distance_min, distance_max)\n",
    "\n",
    "# Save the plot\n",
    "plt.savefig('2021_Silverstone_Q_HAM_vs_VER_Corner_Analysis.png', dpi=300)"
   ]
  },
  {
   "cell_type": "code",
   "execution_count": null,
   "id": "b3b54d15",
   "metadata": {},
   "outputs": [],
   "source": []
  }
 ],
 "metadata": {
  "kernelspec": {
   "display_name": "Python 3 (ipykernel)",
   "language": "python",
   "name": "python3"
  },
  "language_info": {
   "codemirror_mode": {
    "name": "ipython",
    "version": 3
   },
   "file_extension": ".py",
   "mimetype": "text/x-python",
   "name": "python",
   "nbconvert_exporter": "python",
   "pygments_lexer": "ipython3",
   "version": "3.8.12"
  }
 },
 "nbformat": 4,
 "nbformat_minor": 5
}
